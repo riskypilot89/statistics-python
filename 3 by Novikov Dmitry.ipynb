{
 "cells": [
  {
   "cell_type": "markdown",
   "id": "1db827b3",
   "metadata": {},
   "source": [
    "Сравнение нескольких выборок. Новиков Дмитрий. Вариант \"Japan Vietnam China\"."
   ]
  },
  {
   "cell_type": "code",
   "execution_count": 1,
   "id": "54811549",
   "metadata": {},
   "outputs": [],
   "source": [
    "import numpy as np\n",
    "import scipy as sp\n",
    "import matplotlib.pyplot as plt\n",
    "import seaborn as sns\n",
    "import pandas as pd\n",
    "from scipy import stats"
   ]
  },
  {
   "cell_type": "code",
   "execution_count": 2,
   "id": "b1b07412",
   "metadata": {},
   "outputs": [
    {
     "data": {
      "text/html": [
       "<div>\n",
       "<style scoped>\n",
       "    .dataframe tbody tr th:only-of-type {\n",
       "        vertical-align: middle;\n",
       "    }\n",
       "\n",
       "    .dataframe tbody tr th {\n",
       "        vertical-align: top;\n",
       "    }\n",
       "\n",
       "    .dataframe thead th {\n",
       "        text-align: right;\n",
       "    }\n",
       "</style>\n",
       "<table border=\"1\" class=\"dataframe\">\n",
       "  <thead>\n",
       "    <tr style=\"text-align: right;\">\n",
       "      <th></th>\n",
       "      <th>Review #</th>\n",
       "      <th>Brand</th>\n",
       "      <th>Variety</th>\n",
       "      <th>Style</th>\n",
       "      <th>Country</th>\n",
       "      <th>Stars</th>\n",
       "      <th>Top Ten</th>\n",
       "    </tr>\n",
       "  </thead>\n",
       "  <tbody>\n",
       "    <tr>\n",
       "      <th>0</th>\n",
       "      <td>2580</td>\n",
       "      <td>New Touch</td>\n",
       "      <td>T's Restaurant Tantanmen</td>\n",
       "      <td>Cup</td>\n",
       "      <td>Japan</td>\n",
       "      <td>3.75</td>\n",
       "      <td>NaN</td>\n",
       "    </tr>\n",
       "    <tr>\n",
       "      <th>1</th>\n",
       "      <td>2579</td>\n",
       "      <td>Just Way</td>\n",
       "      <td>Noodles Spicy Hot Sesame Spicy Hot Sesame Guan...</td>\n",
       "      <td>Pack</td>\n",
       "      <td>Taiwan</td>\n",
       "      <td>1</td>\n",
       "      <td>NaN</td>\n",
       "    </tr>\n",
       "    <tr>\n",
       "      <th>2</th>\n",
       "      <td>2578</td>\n",
       "      <td>Nissin</td>\n",
       "      <td>Cup Noodles Chicken Vegetable</td>\n",
       "      <td>Cup</td>\n",
       "      <td>USA</td>\n",
       "      <td>2.25</td>\n",
       "      <td>NaN</td>\n",
       "    </tr>\n",
       "    <tr>\n",
       "      <th>3</th>\n",
       "      <td>2577</td>\n",
       "      <td>Wei Lih</td>\n",
       "      <td>GGE Ramen Snack Tomato Flavor</td>\n",
       "      <td>Pack</td>\n",
       "      <td>Taiwan</td>\n",
       "      <td>2.75</td>\n",
       "      <td>NaN</td>\n",
       "    </tr>\n",
       "    <tr>\n",
       "      <th>4</th>\n",
       "      <td>2576</td>\n",
       "      <td>Ching's Secret</td>\n",
       "      <td>Singapore Curry</td>\n",
       "      <td>Pack</td>\n",
       "      <td>India</td>\n",
       "      <td>3.75</td>\n",
       "      <td>NaN</td>\n",
       "    </tr>\n",
       "  </tbody>\n",
       "</table>\n",
       "</div>"
      ],
      "text/plain": [
       "   Review #           Brand  \\\n",
       "0      2580       New Touch   \n",
       "1      2579        Just Way   \n",
       "2      2578          Nissin   \n",
       "3      2577         Wei Lih   \n",
       "4      2576  Ching's Secret   \n",
       "\n",
       "                                             Variety Style Country Stars  \\\n",
       "0                          T's Restaurant Tantanmen    Cup   Japan  3.75   \n",
       "1  Noodles Spicy Hot Sesame Spicy Hot Sesame Guan...  Pack  Taiwan     1   \n",
       "2                      Cup Noodles Chicken Vegetable   Cup     USA  2.25   \n",
       "3                      GGE Ramen Snack Tomato Flavor  Pack  Taiwan  2.75   \n",
       "4                                    Singapore Curry  Pack   India  3.75   \n",
       "\n",
       "  Top Ten  \n",
       "0     NaN  \n",
       "1     NaN  \n",
       "2     NaN  \n",
       "3     NaN  \n",
       "4     NaN  "
      ]
     },
     "execution_count": 2,
     "metadata": {},
     "output_type": "execute_result"
    }
   ],
   "source": [
    "data = pd.read_csv(\"ramen-ratings.csv\")\n",
    "data.head()"
   ]
  },
  {
   "cell_type": "code",
   "execution_count": 3,
   "id": "91328049",
   "metadata": {},
   "outputs": [],
   "source": [
    "def my_countries(x):\n",
    "    if 'Japan'in str(x) or 'Vietnam' in str(x) or 'China' in str(x):\n",
    "        return True\n",
    "    return False"
   ]
  },
  {
   "cell_type": "code",
   "execution_count": 4,
   "id": "4b066243",
   "metadata": {},
   "outputs": [
    {
     "data": {
      "text/plain": [
       "{False: [1, 2, 3, 4, 5, 9, 10, 11, 12, 14, 15, 16, 17, 19, 20, 21, 22, 23, 24, 25, 26, 28, 29, 30, 31, 32, 35, 36, 37, 39, 40, 41, 42, 43, 44, 45, 47, 50, 52, 54, 56, 57, 59, 60, 61, 65, 67, 68, 69, 70, 71, 72, 73, 74, 76, 78, 79, 80, 81, 82, 83, 84, 85, 86, 87, 88, 89, 90, 91, 92, 93, 94, 95, 96, 97, 98, 99, 101, 102, 103, 104, 106, 108, 109, 110, 111, 113, 114, 116, 117, 118, 120, 122, 123, 124, 125, 126, 127, 128, 129, ...], True: [0, 6, 7, 8, 13, 18, 27, 33, 34, 38, 46, 48, 49, 51, 53, 55, 58, 62, 63, 64, 66, 75, 77, 100, 105, 107, 112, 115, 119, 121, 139, 140, 143, 145, 147, 151, 153, 160, 161, 162, 164, 165, 174, 179, 182, 185, 187, 192, 196, 208, 209, 218, 221, 222, 225, 226, 227, 232, 252, 257, 258, 260, 264, 275, 278, 283, 285, 286, 288, 291, 293, 297, 300, 302, 305, 309, 315, 317, 319, 325, 328, 333, 343, 344, 348, 350, 352, 354, 359, 366, 367, 374, 385, 390, 394, 395, 414, 417, 420, 423, ...]}"
      ]
     },
     "execution_count": 4,
     "metadata": {},
     "output_type": "execute_result"
    }
   ],
   "source": [
    "my_countries = data.groupby(data.apply(lambda x: my_countries(x['Country']), axis = 1))\n",
    "my_countries.groups"
   ]
  },
  {
   "cell_type": "code",
   "execution_count": 5,
   "id": "ad4583a4",
   "metadata": {},
   "outputs": [
    {
     "data": {
      "text/html": [
       "<div>\n",
       "<style scoped>\n",
       "    .dataframe tbody tr th:only-of-type {\n",
       "        vertical-align: middle;\n",
       "    }\n",
       "\n",
       "    .dataframe tbody tr th {\n",
       "        vertical-align: top;\n",
       "    }\n",
       "\n",
       "    .dataframe thead th {\n",
       "        text-align: right;\n",
       "    }\n",
       "</style>\n",
       "<table border=\"1\" class=\"dataframe\">\n",
       "  <thead>\n",
       "    <tr style=\"text-align: right;\">\n",
       "      <th></th>\n",
       "      <th>Review #</th>\n",
       "      <th>Brand</th>\n",
       "      <th>Variety</th>\n",
       "      <th>Style</th>\n",
       "      <th>Country</th>\n",
       "      <th>Stars</th>\n",
       "      <th>Top Ten</th>\n",
       "    </tr>\n",
       "  </thead>\n",
       "  <tbody>\n",
       "    <tr>\n",
       "      <th>0</th>\n",
       "      <td>2580</td>\n",
       "      <td>New Touch</td>\n",
       "      <td>T's Restaurant Tantanmen</td>\n",
       "      <td>Cup</td>\n",
       "      <td>Japan</td>\n",
       "      <td>3.75</td>\n",
       "      <td>NaN</td>\n",
       "    </tr>\n",
       "    <tr>\n",
       "      <th>6</th>\n",
       "      <td>2574</td>\n",
       "      <td>Acecook</td>\n",
       "      <td>Spice Deli Tantan Men With Cilantro</td>\n",
       "      <td>Cup</td>\n",
       "      <td>Japan</td>\n",
       "      <td>4</td>\n",
       "      <td>NaN</td>\n",
       "    </tr>\n",
       "    <tr>\n",
       "      <th>7</th>\n",
       "      <td>2573</td>\n",
       "      <td>Ikeda Shoku</td>\n",
       "      <td>Nabeyaki Kitsune Udon</td>\n",
       "      <td>Tray</td>\n",
       "      <td>Japan</td>\n",
       "      <td>3.75</td>\n",
       "      <td>NaN</td>\n",
       "    </tr>\n",
       "    <tr>\n",
       "      <th>8</th>\n",
       "      <td>2572</td>\n",
       "      <td>Ripe'n'Dry</td>\n",
       "      <td>Hokkaido Soy Sauce Ramen</td>\n",
       "      <td>Pack</td>\n",
       "      <td>Japan</td>\n",
       "      <td>0.25</td>\n",
       "      <td>NaN</td>\n",
       "    </tr>\n",
       "    <tr>\n",
       "      <th>13</th>\n",
       "      <td>2567</td>\n",
       "      <td>Nissin</td>\n",
       "      <td>Deka Buto Kimchi Pork Flavor</td>\n",
       "      <td>Bowl</td>\n",
       "      <td>Japan</td>\n",
       "      <td>4.5</td>\n",
       "      <td>NaN</td>\n",
       "    </tr>\n",
       "    <tr>\n",
       "      <th>...</th>\n",
       "      <td>...</td>\n",
       "      <td>...</td>\n",
       "      <td>...</td>\n",
       "      <td>...</td>\n",
       "      <td>...</td>\n",
       "      <td>...</td>\n",
       "      <td>...</td>\n",
       "    </tr>\n",
       "    <tr>\n",
       "      <th>2567</th>\n",
       "      <td>13</td>\n",
       "      <td>Sapporo Ichiban</td>\n",
       "      <td>Chow Mein</td>\n",
       "      <td>Pack</td>\n",
       "      <td>Japan</td>\n",
       "      <td>5</td>\n",
       "      <td>2012 #4</td>\n",
       "    </tr>\n",
       "    <tr>\n",
       "      <th>2568</th>\n",
       "      <td>12</td>\n",
       "      <td>Sapporo Ichiban</td>\n",
       "      <td>Shrimp Flavor</td>\n",
       "      <td>Pack</td>\n",
       "      <td>Japan</td>\n",
       "      <td>2.5</td>\n",
       "      <td>NaN</td>\n",
       "    </tr>\n",
       "    <tr>\n",
       "      <th>2573</th>\n",
       "      <td>7</td>\n",
       "      <td>Ve Wong</td>\n",
       "      <td>Mushroom Pork</td>\n",
       "      <td>Pack</td>\n",
       "      <td>Vietnam</td>\n",
       "      <td>1</td>\n",
       "      <td>NaN</td>\n",
       "    </tr>\n",
       "    <tr>\n",
       "      <th>2574</th>\n",
       "      <td>6</td>\n",
       "      <td>Vifon</td>\n",
       "      <td>Nam Vang</td>\n",
       "      <td>Pack</td>\n",
       "      <td>Vietnam</td>\n",
       "      <td>2.5</td>\n",
       "      <td>NaN</td>\n",
       "    </tr>\n",
       "    <tr>\n",
       "      <th>2575</th>\n",
       "      <td>5</td>\n",
       "      <td>Vifon</td>\n",
       "      <td>Hu Tiu Nam Vang [\"Phnom Penh\" style] Asian Sty...</td>\n",
       "      <td>Bowl</td>\n",
       "      <td>Vietnam</td>\n",
       "      <td>3.5</td>\n",
       "      <td>NaN</td>\n",
       "    </tr>\n",
       "  </tbody>\n",
       "</table>\n",
       "<p>629 rows × 7 columns</p>\n",
       "</div>"
      ],
      "text/plain": [
       "      Review #            Brand  \\\n",
       "0         2580        New Touch   \n",
       "6         2574          Acecook   \n",
       "7         2573      Ikeda Shoku   \n",
       "8         2572       Ripe'n'Dry   \n",
       "13        2567           Nissin   \n",
       "...        ...              ...   \n",
       "2567        13  Sapporo Ichiban   \n",
       "2568        12  Sapporo Ichiban   \n",
       "2573         7          Ve Wong   \n",
       "2574         6            Vifon   \n",
       "2575         5            Vifon   \n",
       "\n",
       "                                                Variety Style  Country Stars  \\\n",
       "0                             T's Restaurant Tantanmen    Cup    Japan  3.75   \n",
       "6                   Spice Deli Tantan Men With Cilantro   Cup    Japan     4   \n",
       "7                                 Nabeyaki Kitsune Udon  Tray    Japan  3.75   \n",
       "8                              Hokkaido Soy Sauce Ramen  Pack    Japan  0.25   \n",
       "13                         Deka Buto Kimchi Pork Flavor  Bowl    Japan   4.5   \n",
       "...                                                 ...   ...      ...   ...   \n",
       "2567                                          Chow Mein  Pack    Japan     5   \n",
       "2568                                      Shrimp Flavor  Pack    Japan   2.5   \n",
       "2573                                      Mushroom Pork  Pack  Vietnam     1   \n",
       "2574                                           Nam Vang  Pack  Vietnam   2.5   \n",
       "2575  Hu Tiu Nam Vang [\"Phnom Penh\" style] Asian Sty...  Bowl  Vietnam   3.5   \n",
       "\n",
       "      Top Ten  \n",
       "0         NaN  \n",
       "6         NaN  \n",
       "7         NaN  \n",
       "8         NaN  \n",
       "13        NaN  \n",
       "...       ...  \n",
       "2567  2012 #4  \n",
       "2568      NaN  \n",
       "2573      NaN  \n",
       "2574      NaN  \n",
       "2575      NaN  \n",
       "\n",
       "[629 rows x 7 columns]"
      ]
     },
     "execution_count": 5,
     "metadata": {},
     "output_type": "execute_result"
    }
   ],
   "source": [
    "my_countries_2 = my_countries.get_group(True)\n",
    "my_countries_2"
   ]
  },
  {
   "cell_type": "code",
   "execution_count": 6,
   "id": "01483972",
   "metadata": {},
   "outputs": [],
   "source": [
    "def rated(x):\n",
    "    if 'Unrated' in str(x):\n",
    "        return False\n",
    "    return True"
   ]
  },
  {
   "cell_type": "code",
   "execution_count": 7,
   "id": "0d3f560d",
   "metadata": {},
   "outputs": [
    {
     "data": {
      "text/plain": [
       "{True: [0, 6, 7, 8, 13, 18, 27, 33, 34, 38, 46, 48, 49, 51, 53, 55, 58, 62, 63, 64, 66, 75, 77, 100, 105, 107, 112, 115, 119, 121, 139, 140, 143, 145, 147, 151, 153, 160, 161, 162, 164, 165, 174, 179, 182, 185, 187, 192, 196, 208, 209, 218, 221, 222, 225, 226, 227, 232, 252, 257, 258, 260, 264, 275, 278, 283, 285, 286, 288, 291, 293, 297, 300, 302, 305, 309, 315, 317, 319, 325, 328, 333, 343, 344, 348, 350, 352, 354, 359, 366, 367, 374, 385, 390, 394, 395, 414, 417, 420, 423, ...]}"
      ]
     },
     "execution_count": 7,
     "metadata": {},
     "output_type": "execute_result"
    }
   ],
   "source": [
    "my_countries_3 = my_countries_2.groupby(my_countries_2.apply(lambda x: rated(x['Stars']), axis = 1))\n",
    "my_countries_3.groups"
   ]
  },
  {
   "cell_type": "code",
   "execution_count": 8,
   "id": "00e676ed",
   "metadata": {},
   "outputs": [
    {
     "data": {
      "text/html": [
       "<div>\n",
       "<style scoped>\n",
       "    .dataframe tbody tr th:only-of-type {\n",
       "        vertical-align: middle;\n",
       "    }\n",
       "\n",
       "    .dataframe tbody tr th {\n",
       "        vertical-align: top;\n",
       "    }\n",
       "\n",
       "    .dataframe thead th {\n",
       "        text-align: right;\n",
       "    }\n",
       "</style>\n",
       "<table border=\"1\" class=\"dataframe\">\n",
       "  <thead>\n",
       "    <tr style=\"text-align: right;\">\n",
       "      <th></th>\n",
       "      <th>Review #</th>\n",
       "      <th>Brand</th>\n",
       "      <th>Variety</th>\n",
       "      <th>Style</th>\n",
       "      <th>Country</th>\n",
       "      <th>Stars</th>\n",
       "      <th>Top Ten</th>\n",
       "    </tr>\n",
       "  </thead>\n",
       "  <tbody>\n",
       "    <tr>\n",
       "      <th>0</th>\n",
       "      <td>2580</td>\n",
       "      <td>New Touch</td>\n",
       "      <td>T's Restaurant Tantanmen</td>\n",
       "      <td>Cup</td>\n",
       "      <td>Japan</td>\n",
       "      <td>3.75</td>\n",
       "      <td>NaN</td>\n",
       "    </tr>\n",
       "    <tr>\n",
       "      <th>6</th>\n",
       "      <td>2574</td>\n",
       "      <td>Acecook</td>\n",
       "      <td>Spice Deli Tantan Men With Cilantro</td>\n",
       "      <td>Cup</td>\n",
       "      <td>Japan</td>\n",
       "      <td>4</td>\n",
       "      <td>NaN</td>\n",
       "    </tr>\n",
       "    <tr>\n",
       "      <th>7</th>\n",
       "      <td>2573</td>\n",
       "      <td>Ikeda Shoku</td>\n",
       "      <td>Nabeyaki Kitsune Udon</td>\n",
       "      <td>Tray</td>\n",
       "      <td>Japan</td>\n",
       "      <td>3.75</td>\n",
       "      <td>NaN</td>\n",
       "    </tr>\n",
       "    <tr>\n",
       "      <th>8</th>\n",
       "      <td>2572</td>\n",
       "      <td>Ripe'n'Dry</td>\n",
       "      <td>Hokkaido Soy Sauce Ramen</td>\n",
       "      <td>Pack</td>\n",
       "      <td>Japan</td>\n",
       "      <td>0.25</td>\n",
       "      <td>NaN</td>\n",
       "    </tr>\n",
       "    <tr>\n",
       "      <th>13</th>\n",
       "      <td>2567</td>\n",
       "      <td>Nissin</td>\n",
       "      <td>Deka Buto Kimchi Pork Flavor</td>\n",
       "      <td>Bowl</td>\n",
       "      <td>Japan</td>\n",
       "      <td>4.5</td>\n",
       "      <td>NaN</td>\n",
       "    </tr>\n",
       "    <tr>\n",
       "      <th>...</th>\n",
       "      <td>...</td>\n",
       "      <td>...</td>\n",
       "      <td>...</td>\n",
       "      <td>...</td>\n",
       "      <td>...</td>\n",
       "      <td>...</td>\n",
       "      <td>...</td>\n",
       "    </tr>\n",
       "    <tr>\n",
       "      <th>2567</th>\n",
       "      <td>13</td>\n",
       "      <td>Sapporo Ichiban</td>\n",
       "      <td>Chow Mein</td>\n",
       "      <td>Pack</td>\n",
       "      <td>Japan</td>\n",
       "      <td>5</td>\n",
       "      <td>2012 #4</td>\n",
       "    </tr>\n",
       "    <tr>\n",
       "      <th>2568</th>\n",
       "      <td>12</td>\n",
       "      <td>Sapporo Ichiban</td>\n",
       "      <td>Shrimp Flavor</td>\n",
       "      <td>Pack</td>\n",
       "      <td>Japan</td>\n",
       "      <td>2.5</td>\n",
       "      <td>NaN</td>\n",
       "    </tr>\n",
       "    <tr>\n",
       "      <th>2573</th>\n",
       "      <td>7</td>\n",
       "      <td>Ve Wong</td>\n",
       "      <td>Mushroom Pork</td>\n",
       "      <td>Pack</td>\n",
       "      <td>Vietnam</td>\n",
       "      <td>1</td>\n",
       "      <td>NaN</td>\n",
       "    </tr>\n",
       "    <tr>\n",
       "      <th>2574</th>\n",
       "      <td>6</td>\n",
       "      <td>Vifon</td>\n",
       "      <td>Nam Vang</td>\n",
       "      <td>Pack</td>\n",
       "      <td>Vietnam</td>\n",
       "      <td>2.5</td>\n",
       "      <td>NaN</td>\n",
       "    </tr>\n",
       "    <tr>\n",
       "      <th>2575</th>\n",
       "      <td>5</td>\n",
       "      <td>Vifon</td>\n",
       "      <td>Hu Tiu Nam Vang [\"Phnom Penh\" style] Asian Sty...</td>\n",
       "      <td>Bowl</td>\n",
       "      <td>Vietnam</td>\n",
       "      <td>3.5</td>\n",
       "      <td>NaN</td>\n",
       "    </tr>\n",
       "  </tbody>\n",
       "</table>\n",
       "<p>629 rows × 7 columns</p>\n",
       "</div>"
      ],
      "text/plain": [
       "      Review #            Brand  \\\n",
       "0         2580        New Touch   \n",
       "6         2574          Acecook   \n",
       "7         2573      Ikeda Shoku   \n",
       "8         2572       Ripe'n'Dry   \n",
       "13        2567           Nissin   \n",
       "...        ...              ...   \n",
       "2567        13  Sapporo Ichiban   \n",
       "2568        12  Sapporo Ichiban   \n",
       "2573         7          Ve Wong   \n",
       "2574         6            Vifon   \n",
       "2575         5            Vifon   \n",
       "\n",
       "                                                Variety Style  Country Stars  \\\n",
       "0                             T's Restaurant Tantanmen    Cup    Japan  3.75   \n",
       "6                   Spice Deli Tantan Men With Cilantro   Cup    Japan     4   \n",
       "7                                 Nabeyaki Kitsune Udon  Tray    Japan  3.75   \n",
       "8                              Hokkaido Soy Sauce Ramen  Pack    Japan  0.25   \n",
       "13                         Deka Buto Kimchi Pork Flavor  Bowl    Japan   4.5   \n",
       "...                                                 ...   ...      ...   ...   \n",
       "2567                                          Chow Mein  Pack    Japan     5   \n",
       "2568                                      Shrimp Flavor  Pack    Japan   2.5   \n",
       "2573                                      Mushroom Pork  Pack  Vietnam     1   \n",
       "2574                                           Nam Vang  Pack  Vietnam   2.5   \n",
       "2575  Hu Tiu Nam Vang [\"Phnom Penh\" style] Asian Sty...  Bowl  Vietnam   3.5   \n",
       "\n",
       "      Top Ten  \n",
       "0         NaN  \n",
       "6         NaN  \n",
       "7         NaN  \n",
       "8         NaN  \n",
       "13        NaN  \n",
       "...       ...  \n",
       "2567  2012 #4  \n",
       "2568      NaN  \n",
       "2573      NaN  \n",
       "2574      NaN  \n",
       "2575      NaN  \n",
       "\n",
       "[629 rows x 7 columns]"
      ]
     },
     "execution_count": 8,
     "metadata": {},
     "output_type": "execute_result"
    }
   ],
   "source": [
    "my_countries_3 = my_countries_3.get_group(True)\n",
    "my_countries_3"
   ]
  },
  {
   "cell_type": "code",
   "execution_count": 9,
   "id": "3de64c3c",
   "metadata": {},
   "outputs": [],
   "source": [
    "my_countries_3['Stars']= my_countries_3.apply(lambda x: float(x['Stars']), axis = 1)"
   ]
  },
  {
   "cell_type": "code",
   "execution_count": 10,
   "id": "d10b1dfc",
   "metadata": {},
   "outputs": [
    {
     "data": {
      "text/plain": [
       "0       3.75\n",
       "6       4.00\n",
       "7       3.75\n",
       "8       0.25\n",
       "13      4.50\n",
       "        ... \n",
       "2567    5.00\n",
       "2568    2.50\n",
       "2573    1.00\n",
       "2574    2.50\n",
       "2575    3.50\n",
       "Name: Stars, Length: 629, dtype: float64"
      ]
     },
     "execution_count": 10,
     "metadata": {},
     "output_type": "execute_result"
    }
   ],
   "source": [
    "my_countries_3['Stars']"
   ]
  },
  {
   "cell_type": "code",
   "execution_count": 11,
   "id": "47ef551e",
   "metadata": {},
   "outputs": [],
   "source": [
    "#my_countries_3['Stars']= my_countries_3.apply(lambda x: (x['Stars'] + 1) * 100, axis = 1)"
   ]
  },
  {
   "cell_type": "code",
   "execution_count": 12,
   "id": "a4ae5dfb",
   "metadata": {},
   "outputs": [],
   "source": [
    "#my_countries_3['Stars']"
   ]
  },
  {
   "cell_type": "code",
   "execution_count": 13,
   "id": "e67ce2e1",
   "metadata": {},
   "outputs": [],
   "source": [
    "#my_countries_3['Stars']= my_countries_3.apply(lambda x: np.log(x['Stars']), axis = 1)"
   ]
  },
  {
   "cell_type": "code",
   "execution_count": 14,
   "id": "a095fdbc",
   "metadata": {},
   "outputs": [],
   "source": [
    "#my_countries_3['Stars']"
   ]
  },
  {
   "cell_type": "code",
   "execution_count": 15,
   "id": "2070b270",
   "metadata": {},
   "outputs": [],
   "source": [
    "#my_countries_3.groupby('Country').groups"
   ]
  },
  {
   "cell_type": "markdown",
   "id": "827712b0",
   "metadata": {},
   "source": [
    "Чтобы прикинуть, какой разброс и можно ли надеяться на равенство дисперсий, построим \"ящики с усами\" :"
   ]
  },
  {
   "cell_type": "code",
   "execution_count": 16,
   "id": "2be9b460",
   "metadata": {},
   "outputs": [
    {
     "data": {
      "image/png": "[encoded data removed]",
      "text/plain": [
       "<Figure size 432x288 with 1 Axes>"
      ]
     },
     "metadata": {
      "needs_background": "light"
     },
     "output_type": "display_data"
    }
   ],
   "source": [
    "sns.boxplot( y=my_countries_3['Stars'], x=my_countries_3['Country'] );\n",
    "plt.show()"
   ]
  },
  {
   "cell_type": "markdown",
   "id": "ed4e736f",
   "metadata": {},
   "source": [
    "## Тест Шапиро-Уилка\n",
    "\n",
    "The Shapiro-Wilk test tests the null hypothesis that a sample $x_{1}, \\ldots, x_{n}$ came from a normally distributed population. The test statistic is\n",
    "$$\n",
    "W=\\frac{\\left(\\sum_{i=1}^{n} a_{i} x_{(i)}\\right)^{2}}{\\sum_{i=1}^{n}\\left(x_{i}-\\bar{x}\\right)^{2}},\n",
    "$$\n",
    "where\n",
    "- $x_{(i)}$ (with parentheses enclosing the subscript index $i$; not to be confused with $x_{i}$ ) is the ith order statistic, i.e., the ith-smallest number in the sample;\n",
    "- $\\bar{x}=\\left(x_{1}+\\cdots+x_{n}\\right) / n$ is the sample mean.\n",
    "The coefficients $a_{i}$ are given by: ${ }^{[1]}$\n",
    "$$\n",
    "\\left(a_{1}, \\ldots, a_{n}\\right)=\\frac{m^{\\top} V^{-1}}{C},\n",
    "$$\n",
    "where $C$ is a vector norm: ${ }^{[2]}$\n",
    "$$\n",
    "C=\\left\\|V^{-1} m\\right\\|=\\left(m^{\\top} V^{-1} V^{-1} m\\right)^{1 / 2}\n",
    "$$\n",
    "and the vector $m$,\n",
    "$$\n",
    "m=\\left(m_{1}, \\ldots, m_{n}\\right)^{\\top}\n",
    "$$ normal order statistics. ${ }^{[3]}$\n",
    "There is no name for the distribution of $W$. The cutoff values for the statistics are calculated through Monte Carlo simulations. ${ }^{\\text {[2] }}$\n",
    "\n",
    "Симуляции Монте-Карло — это процесс многократной генерации случайных выборок и оценки различных параментров по ним\n",
    "\n",
    "Проверяем выборки на нормальность с помощью теста Шапиро-Уилка. Работает корректно только для выборок объема меньше 5000, что для нас выполняется."
   ]
  },
  {
   "cell_type": "code",
   "execution_count": 17,
   "id": "0b38260e",
   "metadata": {},
   "outputs": [
    {
     "data": {
      "text/plain": [
       "ShapiroResult(statistic=0.8806263208389282, pvalue=6.7338621674860365e-16)"
      ]
     },
     "execution_count": 17,
     "metadata": {},
     "output_type": "execute_result"
    }
   ],
   "source": [
    "stats.shapiro(my_countries_3['Stars'][my_countries_3['Country'] == 'Japan'])"
   ]
  },
  {
   "cell_type": "code",
   "execution_count": 18,
   "id": "233f67b3",
   "metadata": {},
   "outputs": [
    {
     "data": {
      "text/plain": [
       "ShapiroResult(statistic=0.9088996052742004, pvalue=1.7547490642755292e-06)"
      ]
     },
     "execution_count": 18,
     "metadata": {},
     "output_type": "execute_result"
    }
   ],
   "source": [
    "stats.shapiro(my_countries_3['Stars'][my_countries_3['Country'] == 'Vietnam'])"
   ]
  },
  {
   "cell_type": "code",
   "execution_count": 19,
   "id": "c18d57fd",
   "metadata": {},
   "outputs": [
    {
     "data": {
      "text/plain": [
       "ShapiroResult(statistic=0.8518049120903015, pvalue=8.52160269432245e-12)"
      ]
     },
     "execution_count": 19,
     "metadata": {},
     "output_type": "execute_result"
    }
   ],
   "source": [
    "stats.shapiro(my_countries_3['Stars'][my_countries_3['Country'] == 'China'])"
   ]
  },
  {
   "cell_type": "markdown",
   "id": "8fff9dae",
   "metadata": {},
   "source": [
    "<br>Все выборки НЕ нормальны, значит, применяем тест Левене на равенство дисперсий:"
   ]
  },
  {
   "cell_type": "code",
   "execution_count": 20,
   "id": "758a8789",
   "metadata": {},
   "outputs": [
    {
     "data": {
      "text/plain": [
       "LeveneResult(statistic=2.1489473926207836, pvalue=0.11746627262932828)"
      ]
     },
     "execution_count": 20,
     "metadata": {},
     "output_type": "execute_result"
    }
   ],
   "source": [
    "stats.levene(my_countries_3['Stars'][my_countries_3['Country'] == 'Japan'],\n",
    "             my_countries_3['Stars'][my_countries_3['Country'] == 'Vietnam'],\n",
    "             my_countries_3['Stars'][my_countries_3['Country'] == 'China'])\n"
   ]
  },
  {
   "cell_type": "markdown",
   "id": "ab15359b",
   "metadata": {},
   "source": [
    "В результате дисперсии РАВНЫ."
   ]
  },
  {
   "cell_type": "markdown",
   "id": "e7ae3b57",
   "metadata": {},
   "source": [
    "## Тест Краскела-Уоллиса:\n",
    "\n",
    "Заданы $k$ выборок:\n",
    "$$\n",
    "x_{1}^{n_{1}}=\\left\\{x_{11}, \\ldots, x_{1 n_{1}}\\right\\}, \\ldots, x_{k}^{n_{k}}=\\left\\{x_{k 1}, \\ldots, x_{k n_{k}}\\right\\} .\n",
    "$$\n",
    "Объединённая выборка будет иметь вид:\n",
    "$$\n",
    "x=x_{1}^{n_{1}} \\cup x_{2}^{n_{2}} \\cup \\ldots \\cup x_{k}^{n_{k}} .\n",
    "$$\n",
    "Дополнительные предположения:\n",
    "1. все выборки простые, объединённая выборка независима;\n",
    "2. выборки взяты из неизвестных непрерывных распределений $F_{1}(x), \\ldots, F_{k}(x)$.\n",
    "Проверяется нулевая гипотеза $H_{0}: F_{1}(x)=\\ldots=F_{k}(x)$ при альтернативе $H_{1}: F_{1}(x)=F_{2}\\left(x-\\Delta_{1}\\right)=\\ldots=F_{k}\\left(x-\\Delta_{k-1}\\right)$.\n",
    "Упорядочим все $N=\\sum_{i=1}^{k} n_{i}$ элементов выборок по возрастанию и обозначим $R_{i j}$ ранг $j$-го элемента $i$-й выборки в полученном вариационном ряду.\n",
    "Статистика критерия Краскела - Уоллиса для проверки гипотезы о наличии сдвига в параметрах положения двух сравниваемых выборок имеет вид:\n",
    "$$\n",
    "\\begin{aligned}\n",
    "H &=\\sum_{i=1}^{k}\\left(1-\\frac{n_{i}}{N}\\right)\\left\\{\\frac{\\bar{R}_{i}-\\frac{N+1}{2}}{\\sqrt{\\frac{\\left(N-n_{i}\\right)(N+1)}{12 n_{i}}}}\\right\\}^{2}=\\frac{12}{N(N+1)} \\sum_{i=1}^{k} n_{i}\\left(\\bar{R}_{i}\\right.\\\\\n",
    "&=\\frac{12}{N(N+1)} \\sum_{i=1}^{k} \\frac{R_{i}^{2}}{n_{i}}-3(N+1)\n",
    "\\end{aligned}\n",
    "$$\n",
    "где\n",
    "$$\n",
    "\\begin{aligned}\n",
    "R_{i} &=\\sum_{j=1}^{n_{i}} R_{i j} \\\\\n",
    "\\bar{R}_{i} &=\\frac{1}{n_{i}} R_{i}\n",
    "\\end{aligned}\n",
    "$$ различные аппроксимации.\n"
   ]
  },
  {
   "cell_type": "code",
   "execution_count": 21,
   "id": "2a05bd71",
   "metadata": {},
   "outputs": [
    {
     "data": {
      "text/plain": [
       "KruskalResult(statistic=87.33375463239707, pvalue=1.0857157540910362e-19)"
      ]
     },
     "execution_count": 21,
     "metadata": {},
     "output_type": "execute_result"
    }
   ],
   "source": [
    "stats.kruskal(my_countries_3['Stars'][my_countries_3['Country'] == 'Japan'],\n",
    "             my_countries_3['Stars'][my_countries_3['Country'] == 'Vietnam'],\n",
    "             my_countries_3['Stars'][my_countries_3['Country'] == 'China'])"
   ]
  },
  {
   "cell_type": "markdown",
   "id": "3474d5b3",
   "metadata": {},
   "source": [
    "Гипотезу об однородности выборок отвергаем, - значит, применяем апостериорные (post hoc) тесты."
   ]
  },
  {
   "cell_type": "markdown",
   "id": "c94e9bcd",
   "metadata": {},
   "source": [
    "## Тест Данна\n",
    "$H_{012}:$ 'Japan' = 'Vietnam', $\\alpha = 0,05$<br>\n",
    "$H_{013}:$ 'Japan' = 'China', $\\alpha = 0,05$<br>\n",
    "$H_{023}:$ 'Vietnam' = 'China', $\\alpha = 0,05$<br>\n",
    "$H_{0ij}$ отвергается, на уровне значимости $\\alpha$, если \n",
    "$$|\\overline{R_{i\\cdot}} - \\overline{R_{j\\cdot}} |>z_{\\alpha/k(k-1)}\\sqrt{\\frac{N(N+1)}{12}\\Bigl(\\frac{1}{n_i}+\\frac{1}{n_j}\\Bigr)}$$\n",
    " Значение $p_{value}$ вычисляется так:\n",
    " $$\n",
    " p_{value} = k(k-1)\\cdot\\mathsf{P}\\left(N(0,1)> \\frac{|\\overline{R_{i\\cdot}} - \\overline{R_{j\\cdot}} |}{\\sqrt{\\frac{N(N+1)}{12}\\Bigl(\\frac{1}{n_i}+\\frac{1}{n_j}\\Bigr)}}\\right)\n",
    " $$\n",
    " \n",
    "Вероятность того, что хотя бы для одной пары мы совершим ошибку 1 рода:\n"
   ]
  },
  {
   "cell_type": "code",
   "execution_count": 22,
   "id": "bfac5dcc",
   "metadata": {},
   "outputs": [
    {
     "data": {
      "text/plain": [
       "0.1426250000000001"
      ]
     },
     "execution_count": 22,
     "metadata": {},
     "output_type": "execute_result"
    }
   ],
   "source": [
    "FWER = 1-(1-0.05)**(3)\n",
    "FWER"
   ]
  },
  {
   "cell_type": "markdown",
   "id": "271bd366",
   "metadata": {},
   "source": [
    "FWER - вероятность отвергнуть хотя бы одну $H_{0ij}$, когда все средние равны.\n",
    "\n",
    "FWER нужно фиксировать при post hoc тестах!<br><br>\n",
    "\n",
    "Тест Данна:"
   ]
  },
  {
   "cell_type": "code",
   "execution_count": 23,
   "id": "bcfc2a05",
   "metadata": {
    "scrolled": true
   },
   "outputs": [
    {
     "name": "stdout",
     "output_type": "stream",
     "text": [
      "Defaulting to user installation because normal site-packages is not writeable\n",
      "Requirement already satisfied: scikit_posthocs in c:\\users\\admin\\appdata\\roaming\\python\\python39\\site-packages (0.7.0)\n",
      "Requirement already satisfied: seaborn in d:\\anaconda3\\lib\\site-packages (from scikit_posthocs) (0.11.2)\n",
      "Requirement already satisfied: numpy in d:\\anaconda3\\lib\\site-packages (from scikit_posthocs) (1.21.5)\n",
      "Requirement already satisfied: matplotlib in d:\\anaconda3\\lib\\site-packages (from scikit_posthocs) (3.5.1)\n",
      "Requirement already satisfied: scipy in d:\\anaconda3\\lib\\site-packages (from scikit_posthocs) (1.7.3)\n",
      "Requirement already satisfied: statsmodels in d:\\anaconda3\\lib\\site-packages (from scikit_posthocs) (0.13.2)\n",
      "Requirement already satisfied: pandas>=0.20.0 in d:\\anaconda3\\lib\\site-packages (from scikit_posthocs) (1.4.2)\n",
      "Requirement already satisfied: pytz>=2020.1 in d:\\anaconda3\\lib\\site-packages (from pandas>=0.20.0->scikit_posthocs) (2021.3)\n",
      "Requirement already satisfied: python-dateutil>=2.8.1 in d:\\anaconda3\\lib\\site-packages (from pandas>=0.20.0->scikit_posthocs) (2.8.2)\n",
      "Requirement already satisfied: six>=1.5 in d:\\anaconda3\\lib\\site-packages (from python-dateutil>=2.8.1->pandas>=0.20.0->scikit_posthocs) (1.16.0)\n",
      "Requirement already satisfied: kiwisolver>=1.0.1 in d:\\anaconda3\\lib\\site-packages (from matplotlib->scikit_posthocs) (1.3.2)\n",
      "Requirement already satisfied: pillow>=6.2.0 in d:\\anaconda3\\lib\\site-packages (from matplotlib->scikit_posthocs) (9.0.1)\n",
      "Requirement already satisfied: cycler>=0.10 in d:\\anaconda3\\lib\\site-packages (from matplotlib->scikit_posthocs) (0.11.0)\n",
      "Requirement already satisfied: packaging>=20.0 in d:\\anaconda3\\lib\\site-packages (from matplotlib->scikit_posthocs) (21.3)\n",
      "Requirement already satisfied: pyparsing>=2.2.1 in d:\\anaconda3\\lib\\site-packages (from matplotlib->scikit_posthocs) (3.0.4)\n",
      "Requirement already satisfied: fonttools>=4.22.0 in d:\\anaconda3\\lib\\site-packages (from matplotlib->scikit_posthocs) (4.25.0)\n",
      "Note: you may need to restart the kernel to use updated packages.Requirement already satisfied: patsy>=0.5.2 in d:\\anaconda3\\lib\\site-packages (from statsmodels->scikit_posthocs) (0.5.2)\n",
      "\n"
     ]
    }
   ],
   "source": [
    "pip install scikit_posthocs"
   ]
  },
  {
   "cell_type": "code",
   "execution_count": 24,
   "id": "0e51a51b",
   "metadata": {},
   "outputs": [],
   "source": [
    "import scikit_posthocs as sph"
   ]
  },
  {
   "cell_type": "code",
   "execution_count": 25,
   "id": "68315172",
   "metadata": {},
   "outputs": [
    {
     "data": {
      "text/html": [
       "<div>\n",
       "<style scoped>\n",
       "    .dataframe tbody tr th:only-of-type {\n",
       "        vertical-align: middle;\n",
       "    }\n",
       "\n",
       "    .dataframe tbody tr th {\n",
       "        vertical-align: top;\n",
       "    }\n",
       "\n",
       "    .dataframe thead th {\n",
       "        text-align: right;\n",
       "    }\n",
       "</style>\n",
       "<table border=\"1\" class=\"dataframe\">\n",
       "  <thead>\n",
       "    <tr style=\"text-align: right;\">\n",
       "      <th></th>\n",
       "      <th>1</th>\n",
       "      <th>2</th>\n",
       "      <th>3</th>\n",
       "    </tr>\n",
       "  </thead>\n",
       "  <tbody>\n",
       "    <tr>\n",
       "      <th>1</th>\n",
       "      <td>1.000000e+00</td>\n",
       "      <td>9.518063e-18</td>\n",
       "      <td>2.147456e-08</td>\n",
       "    </tr>\n",
       "    <tr>\n",
       "      <th>2</th>\n",
       "      <td>9.518063e-18</td>\n",
       "      <td>1.000000e+00</td>\n",
       "      <td>5.282673e-04</td>\n",
       "    </tr>\n",
       "    <tr>\n",
       "      <th>3</th>\n",
       "      <td>2.147456e-08</td>\n",
       "      <td>5.282673e-04</td>\n",
       "      <td>1.000000e+00</td>\n",
       "    </tr>\n",
       "  </tbody>\n",
       "</table>\n",
       "</div>"
      ],
      "text/plain": [
       "              1             2             3\n",
       "1  1.000000e+00  9.518063e-18  2.147456e-08\n",
       "2  9.518063e-18  1.000000e+00  5.282673e-04\n",
       "3  2.147456e-08  5.282673e-04  1.000000e+00"
      ]
     },
     "execution_count": 25,
     "metadata": {},
     "output_type": "execute_result"
    }
   ],
   "source": [
    "sph.posthoc_dunn([my_countries_3['Stars'][my_countries_3['Country'] == 'Japan'],\n",
    "             my_countries_3['Stars'][my_countries_3['Country'] == 'Vietnam'],\n",
    "                 my_countries_3['Stars'][my_countries_3['Country'] == 'China']], p_adjust='fdr_bh')"
   ]
  },
  {
   "cell_type": "markdown",
   "id": "17c73d1a",
   "metadata": {},
   "source": [
    "Все три выборки попарно отличаются в контексте гипотезы!"
   ]
  },
  {
   "cell_type": "markdown",
   "id": "fba7ca51",
   "metadata": {},
   "source": [
    "Рассмотрим что-нибудь для дискретной (изначальной)  модели:"
   ]
  },
  {
   "cell_type": "code",
   "execution_count": 26,
   "id": "91a54844",
   "metadata": {},
   "outputs": [],
   "source": [
    "my_countries_4 = my_countries_2.groupby(my_countries_2.apply(lambda x: rated(x['Stars']), axis = 1))\n",
    "my_countries_4 = my_countries_4.get_group(True)\n",
    "my_countries_4['Stars']= my_countries_4.apply(lambda x: float(x['Stars']), axis = 1)"
   ]
  },
  {
   "cell_type": "code",
   "execution_count": 27,
   "id": "b2d67439",
   "metadata": {},
   "outputs": [
    {
     "data": {
      "text/plain": [
       "0       3.75\n",
       "6       4.00\n",
       "7       3.75\n",
       "8       0.25\n",
       "13      4.50\n",
       "        ... \n",
       "2567    5.00\n",
       "2568    2.50\n",
       "2573    1.00\n",
       "2574    2.50\n",
       "2575    3.50\n",
       "Name: Stars, Length: 629, dtype: float64"
      ]
     },
     "execution_count": 27,
     "metadata": {},
     "output_type": "execute_result"
    }
   ],
   "source": [
    "my_countries_4['Stars']"
   ]
  },
  {
   "cell_type": "markdown",
   "id": "2dca3217",
   "metadata": {},
   "source": [
    "Создадим таблицу сопряженности:"
   ]
  },
  {
   "cell_type": "code",
   "execution_count": 28,
   "id": "a349d497",
   "metadata": {},
   "outputs": [
    {
     "name": "stdout",
     "output_type": "stream",
     "text": [
      "Country  China  Japan  Vietnam\n",
      "Stars                         \n",
      "0.000        6      1        1\n",
      "0.250        2      2        0\n",
      "0.500        2      0        1\n",
      "0.750        0      1        0\n",
      "1.000        2      3        1\n",
      "1.250        1      1        3\n",
      "1.500        3      2        1\n",
      "1.750        4      1        1\n",
      "2.000        3      5        5\n",
      "2.250        1      2        2\n",
      "2.300        1      0        0\n",
      "2.500        2      6        4\n",
      "2.750        5      7        9\n",
      "2.800        0      0        1\n",
      "3.000       13     21       12\n",
      "3.250        8     14       11\n",
      "3.500       22     30       21\n",
      "3.750       28     38       19\n",
      "3.800        0      2        0\n",
      "4.000       28     57        9\n",
      "4.125        0      1        0\n",
      "4.250       14     27        4\n",
      "4.300        0      1        0\n",
      "4.500       11     33        1\n",
      "4.750        1     23        1\n",
      "5.000       12     74        1\n"
     ]
    }
   ],
   "source": [
    "my_countries_4_crosstab = pd.crosstab(my_countries_4['Stars'], \n",
    "                                      my_countries_4['Country'],  \n",
    "                                                   margins = False) \n",
    "print(my_countries_4_crosstab) "
   ]
  },
  {
   "cell_type": "markdown",
   "id": "7a023778",
   "metadata": {},
   "source": [
    "Теперь применяем Хи-квадрат тест:"
   ]
  },
  {
   "cell_type": "code",
   "execution_count": 29,
   "id": "70892808",
   "metadata": {},
   "outputs": [
    {
     "data": {
      "text/plain": [
       "(140.59209729864915,\n",
       " 1.51804320938834e-10,\n",
       " 50,\n",
       " array([[ 2.14944356,  4.47694754,  1.3736089 ],\n",
       "        [ 1.07472178,  2.23847377,  0.68680445],\n",
       "        [ 0.80604134,  1.67885533,  0.51510334],\n",
       "        [ 0.26868045,  0.55961844,  0.17170111],\n",
       "        [ 1.61208267,  3.35771065,  1.03020668],\n",
       "        [ 1.34340223,  2.79809221,  0.85850556],\n",
       "        [ 1.61208267,  3.35771065,  1.03020668],\n",
       "        [ 1.61208267,  3.35771065,  1.03020668],\n",
       "        [ 3.49284579,  7.27503975,  2.23211447],\n",
       "        [ 1.34340223,  2.79809221,  0.85850556],\n",
       "        [ 0.26868045,  0.55961844,  0.17170111],\n",
       "        [ 3.22416534,  6.7154213 ,  2.06041335],\n",
       "        [ 5.64228935, 11.75198728,  3.60572337],\n",
       "        [ 0.26868045,  0.55961844,  0.17170111],\n",
       "        [12.35930048, 25.74244833,  7.89825119],\n",
       "        [ 8.86645469, 18.46740859,  5.66613672],\n",
       "        [19.6136725 , 40.85214626, 12.53418124],\n",
       "        [22.83783784, 47.56756757, 14.59459459],\n",
       "        [ 0.53736089,  1.11923688,  0.34340223],\n",
       "        [25.25596184, 52.60413355, 16.13990461],\n",
       "        [ 0.26868045,  0.55961844,  0.17170111],\n",
       "        [12.09062003, 25.18282989,  7.72655008],\n",
       "        [ 0.26868045,  0.55961844,  0.17170111],\n",
       "        [12.09062003, 25.18282989,  7.72655008],\n",
       "        [ 6.71701113, 13.99046105,  4.29252782],\n",
       "        [23.37519873, 48.68680445, 14.93799682]]))"
      ]
     },
     "execution_count": 29,
     "metadata": {},
     "output_type": "execute_result"
    }
   ],
   "source": [
    "sp.stats.chi2_contingency(my_countries_4_crosstab)"
   ]
  },
  {
   "cell_type": "markdown",
   "id": "581f1669",
   "metadata": {},
   "source": [
    "$p_{value}$ маленькое, оценки в трёх странах НЕоднородны."
   ]
  },
  {
   "cell_type": "code",
   "execution_count": null,
   "id": "61291c08",
   "metadata": {},
   "outputs": [],
   "source": []
  }
 ],
 "metadata": {
  "kernelspec": {
   "display_name": "Python 3 (ipykernel)",
   "language": "python",
   "name": "python3"
  },
  "language_info": {
   "codemirror_mode": {
    "name": "ipython",
    "version": 3
   },
   "file_extension": ".py",
   "mimetype": "text/x-python",
   "name": "python",
   "nbconvert_exporter": "python",
   "pygments_lexer": "ipython3",
   "version": "3.9.12"
  }
 },
 "nbformat": 4,
 "nbformat_minor": 5
}
